{
 "cells": [
  {
   "cell_type": "code",
   "execution_count": null,
   "metadata": {},
   "outputs": [],
   "source": [
    "import os\n",
    "from skimage import transform\n",
    "import pandas as pd\n",
    "import numpy as np"
   ]
  },
  {
   "cell_type": "markdown",
   "metadata": {},
   "source": [
    "# Goal\n",
    "\n",
    "Used the matched landmarks identified on slide scanner IF images and on the panoramas acquired on the CyTOF to transform the regions of interests (ROIs) defined on the IF images.\n",
    "The tranformed ROIs can then directly be imported in the CyTOF software for Imaging Mass Cytometry measurements."
   ]
  },
  {
   "cell_type": "markdown",
   "metadata": {},
   "source": [
    "## Parameters\n",
    "***Modify if needed***  \n",
    "Enter the input directory.  \n",
    "Enter a single case ID and a single panel. This script should be run once for every slide."
   ]
  },
  {
   "cell_type": "code",
   "execution_count": null,
   "metadata": {},
   "outputs": [],
   "source": [
    "input_dir = \"/home/ubuntu/Data3/acquisition/Batch4/\"\n",
    "\n",
    "caseID = \"6000\"\n",
    "panel = \"Islet\""
   ]
  },
  {
   "cell_type": "markdown",
   "metadata": {},
   "source": [
    "## Transform the landmarks\n",
    "### Input settings"
   ]
  },
  {
   "cell_type": "code",
   "execution_count": null,
   "metadata": {},
   "outputs": [],
   "source": [
    "# Input files and folders\n",
    "case_dir = os.path.join(input_dir, caseID)\n",
    "fn_boxes = os.path.join(case_dir, caseID + '_Boxes_' + panel + '.csv')\n",
    "fn_coordinates = os.path.join(case_dir, caseID + '_Coordinates_' + panel + '.csv')\n",
    "fn_output = os.path.join(case_dir, caseID + '_IMCBoxes_' + panel + '.csv')\n",
    "\n",
    "# Column names of the Coordinates.csv and Boxes.csv files\n",
    "slide_xy = ('SlideX', 'SlideY')\n",
    "imc_xy = ('IMCX', 'IMCY')\n",
    "xy = ['X', 'Y']\n",
    "w = 'W'\n",
    "h = 'H'\n",
    "boxnb = ['AcqOrder']"
   ]
  },
  {
   "cell_type": "markdown",
   "metadata": {},
   "source": [
    "### Read in the csv files\n",
    "The landmark coordinates for the current slide are shown."
   ]
  },
  {
   "cell_type": "code",
   "execution_count": null,
   "metadata": {},
   "outputs": [],
   "source": [
    "dat_boxes = pd.read_csv(fn_boxes)\n",
    "dat_coord = pd.read_csv(fn_coordinates)\n",
    "dat_coord.drop(dat_coord.columns[0], axis = 1, inplace = True)\n",
    "dat_coord"
   ]
  },
  {
   "cell_type": "markdown",
   "metadata": {},
   "source": [
    "### Mirror the coordinates\n",
    "In case the image orientation is inverted.\n",
    "Should not be needed in the context of the region selection workflow."
   ]
  },
  {
   "cell_type": "code",
   "execution_count": null,
   "metadata": {},
   "outputs": [],
   "source": [
    "# dat_coord[slide_xy[0]] = -dat_coord[slide_xy[0]]\n",
    "# dat_boxes[xy[0]] = -dat_boxes[xy[0]]\n",
    "# dat_boxes[w] = -dat_boxes[w]"
   ]
  },
  {
   "cell_type": "markdown",
   "metadata": {},
   "source": [
    "### Learn the transformation"
   ]
  },
  {
   "cell_type": "code",
   "execution_count": null,
   "metadata": {},
   "outputs": [],
   "source": [
    "fl_glob = np.array(dat_coord.loc[:, slide_xy])\n",
    "imc_glob = np.array(dat_coord.loc[:, imc_xy])\n",
    "if2imc = transform.estimate_transform('projective', fl_glob, imc_glob)\n",
    "xout = if2imc(fl_glob)"
   ]
  },
  {
   "cell_type": "markdown",
   "metadata": {},
   "source": [
    "### Quality control\n",
    "The transformed coordinates are displayed in a plot. The green and red dot should overlap almost completely (ideally, the green dots are invisible). If the dots do not overlap, recheck the landmark coordinates entered in the Coordinates.csv files and correct the potential mistakes."
   ]
  },
  {
   "cell_type": "code",
   "execution_count": null,
   "metadata": {},
   "outputs": [],
   "source": [
    "import matplotlib.pyplot as plt\n",
    "%matplotlib notebook"
   ]
  },
  {
   "cell_type": "code",
   "execution_count": null,
   "metadata": {
    "scrolled": true
   },
   "outputs": [],
   "source": [
    "fig, ax = plt.subplots()\n",
    "#plt.scatter(fl_glob[:,0], fl_glob[:,1],)\n",
    "plt.scatter(imc_glob[:,0], imc_glob[:,1],color='green')\n",
    "plt.scatter(xout[:,0], xout[:,1],color='red')\n",
    "\n",
    "for i in range(imc_glob.shape[0]):\n",
    "    #ax.annotate(str(i), (fl_glob[i,0],fl_glob[i,1]))\n",
    "    ax.annotate(str(i), (imc_glob[i,0]-100,imc_glob[i,1]-100))\n",
    "    ax.annotate(str(i), (xout[i,0],xout[i,1]))"
   ]
  },
  {
   "cell_type": "markdown",
   "metadata": {},
   "source": [
    "## Transform the ROIs\n",
    "The learned transformation is applied to the selected regions of interest."
   ]
  },
  {
   "cell_type": "code",
   "execution_count": null,
   "metadata": {},
   "outputs": [],
   "source": [
    "box_edges = list()\n",
    "box_edges.append(dat_boxes.loc[:,boxnb + xy])\n",
    "\n",
    "tdat = dat_boxes.copy()\n",
    "tdat[xy[0]] = dat_boxes[xy[0]] + dat_boxes[w]\n",
    "box_edges.append(tdat.loc[:,boxnb + xy])\n",
    "tdat[xy[1]] = dat_boxes[xy[1]] -dat_boxes[h]\n",
    "box_edges.append(tdat.loc[:,boxnb + xy])\n",
    "tdat = dat_boxes.copy()\n",
    "tdat[xy[1]] = dat_boxes[xy[1]] -dat_boxes[h]\n",
    "box_edges.append(tdat.loc[:,boxnb + xy])\n",
    "\n",
    "all_boxpoints = pd.concat(box_edges)"
   ]
  },
  {
   "cell_type": "markdown",
   "metadata": {},
   "source": [
    "### Display the original ROI coordinates"
   ]
  },
  {
   "cell_type": "code",
   "execution_count": null,
   "metadata": {},
   "outputs": [],
   "source": [
    "all_boxpoints"
   ]
  },
  {
   "cell_type": "markdown",
   "metadata": {},
   "source": [
    "### Apply the transformation and display the transformed coordinates"
   ]
  },
  {
   "cell_type": "code",
   "execution_count": null,
   "metadata": {},
   "outputs": [],
   "source": [
    "all_boxpoints.loc[:, xy] = if2imc(all_boxpoints.loc[:, xy])\n",
    "all_boxpoints.sort_values(boxnb)"
   ]
  },
  {
   "cell_type": "code",
   "execution_count": null,
   "metadata": {},
   "outputs": [],
   "source": [
    "# Dispaly the unformatted transformed ROI coordinates\n",
    "# all_boxpoints.groupby(boxnb).agg(['min', 'max', lambda x: np.max(x)-np.min(x)])[:]"
   ]
  },
  {
   "cell_type": "code",
   "execution_count": null,
   "metadata": {
    "scrolled": true
   },
   "outputs": [],
   "source": [
    "imcboxes = [all_boxpoints.groupby(boxnb).agg(['min']),\n",
    "            all_boxpoints.groupby(boxnb).agg([lambda x: np.max(x)-np.min(x)])]\n",
    "imcboxes = pd.concat(imcboxes, axis=1)\n",
    "imcboxes = imcboxes.round(0)\n",
    "imcboxes.columns = ['X', 'Y', 'W', 'H']\n",
    "imcboxes"
   ]
  },
  {
   "cell_type": "markdown",
   "metadata": {},
   "source": [
    "## Export the transformed ROI coordinates\n",
    "The generated `.csv` file can directly be imported in the CyTOF software."
   ]
  },
  {
   "cell_type": "code",
   "execution_count": null,
   "metadata": {},
   "outputs": [],
   "source": [
    "imcboxes.to_csv(fn_output)"
   ]
  },
  {
   "cell_type": "code",
   "execution_count": null,
   "metadata": {},
   "outputs": [],
   "source": []
  }
 ],
 "metadata": {
  "kernelspec": {
   "display_name": "Python 3 (ipykernel)",
   "language": "python",
   "name": "python3"
  },
  "language_info": {
   "codemirror_mode": {
    "name": "ipython",
    "version": 3
   },
   "file_extension": ".py",
   "mimetype": "text/x-python",
   "name": "python",
   "nbconvert_exporter": "python",
   "pygments_lexer": "ipython3",
   "version": "3.10.4"
  }
 },
 "nbformat": 4,
 "nbformat_minor": 4
}
