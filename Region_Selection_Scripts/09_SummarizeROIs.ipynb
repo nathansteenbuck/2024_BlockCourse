{
 "cells": [
  {
   "cell_type": "code",
   "execution_count": null,
   "id": "630a63b9",
   "metadata": {},
   "outputs": [],
   "source": [
    "import numpy as np\n",
    "import pandas as pd\n",
    "from pathlib import Path"
   ]
  },
  {
   "cell_type": "markdown",
   "id": "c0af7904",
   "metadata": {},
   "source": [
    "# Goal\n",
    "\n",
    "The goal of this script is to summarize selected regions of interests (here, \"boxes\") and to export the related data as `.csv` files. At the end of the workflow, the exported `.csv` files will be used as the starting point for IF-IMC registration (script `13_Register_IF_IMC.ipynb`).  \n",
    "  \n",
    "Tasks performed by the current pipeline:\n",
    "1. Import the ROIs defined in FIJI.\n",
    "2. Sort the ROIs by color of the ROI mask (each ROI has a different color in the mask).\n",
    "3. Randomize the ROI order (so that ROIs are measured in a random order in IMC).\n",
    "4. Export a list of ROI for each slide (for each combination of case and panel).\n",
    "5. Calculate the area of each ROI and total area per slide.\n",
    "6. Export a list of ROIs for each case.\n",
    "7. Export a global summary of all slides (number of ROIs and total area per slide)."
   ]
  },
  {
   "cell_type": "markdown",
   "id": "dd7561f6",
   "metadata": {},
   "source": [
    "## Parameters\n",
    "\n",
    "***Adapt if needed***   \n",
    "Enter the input directory (`BASE` folder), list the case IDs and panels."
   ]
  },
  {
   "cell_type": "code",
   "execution_count": null,
   "id": "30383204",
   "metadata": {},
   "outputs": [],
   "source": [
    "input_dir = Path(\"/home/ubuntu/Data3/acquisition/Batch4/\")\n",
    "\n",
    "panels = (\"Islet\", \"Immune\")\n",
    "caseList = (\"6036\", \"6055\", \"6090\", \"6147\", \"6225\", \"6228\", \\\n",
    "            \"6303\", \"6321\", \"6388\", \"6396\", \"6414\", \"6421\", \"6428\", \\\n",
    "            \"6437\", \"6458\", \"6510\", \"6519\", \"6521\", \"6522\", \"6526\", \\\n",
    "            \"6532\", \"6547\", \"6550\", \"6553\", \"6558\", \"6562\", \"6563\") "
   ]
  },
  {
   "cell_type": "markdown",
   "id": "ff242ada",
   "metadata": {},
   "source": [
    "## Process and summarize ROIs"
   ]
  },
  {
   "cell_type": "code",
   "execution_count": null,
   "id": "4fc849e1",
   "metadata": {},
   "outputs": [],
   "source": [
    "assert Path.exists(input_dir), f\"{input_dir} does not exist\"\n",
    "tempBoxesfile_prefix = \"TEMPBoxes\" # Prefix of `.csv` files exported by FIJI"
   ]
  },
  {
   "cell_type": "code",
   "execution_count": null,
   "id": "40214473",
   "metadata": {},
   "outputs": [],
   "source": [
    "boxesSummary_cols = [\"Case\", \"Panel\", \"ROINb\", \"Area\"]\n",
    "boxesSummary = pd.DataFrame(columns=boxesSummary_cols)\n",
    "\n",
    "# Loop through cases\n",
    "for case in caseList:\n",
    "    case_dir = input_dir / case\n",
    "    assert Path.exists(case_dir), f\"{case_dir} does not exist\"\n",
    "    boxesList = []\n",
    "    \n",
    "    # Loop through panels\n",
    "    for panel in panels:\n",
    "        # Import ROIs defined in FIJI\n",
    "        caseBoxes_fn = case_dir / (tempBoxesfile_prefix + \"_\" + panel + \".csv\")\n",
    "        assert Path.exists(caseBoxes_fn), f\"{caseBoxes_fn} does not exist\"\n",
    "        boxes = pd.read_csv(caseBoxes_fn)\n",
    "        \n",
    "        # Sort the imported data frame by mask color\n",
    "        boxes.drop(columns=boxes.columns[0], axis=1, inplace=True)\n",
    "        boxes = boxes.sort_values(by=\"Color\")\n",
    "        boxes.rename(columns = {\"Color\":\"ROI\"}, inplace = True)\n",
    "        \n",
    "        # Randomly reorder the ROIs\n",
    "        np.random.seed(int(case))\n",
    "        ROINb = boxes.shape[0]\n",
    "        boxes[\"AcqOrder\"] = np.random.choice(ROINb, ROINb, replace=False) + 1\n",
    "        boxes = boxes.sort_values(by=\"AcqOrder\")\n",
    "        boxes = boxes.set_index(\"AcqOrder\")\n",
    "        \n",
    "        # Export `.csv` file with randomly ordered ROIs\n",
    "        boxes_fn = \"_\".join([case, \"Boxes\", panel]) + \".csv\" \n",
    "        boxes.to_csv(case_dir / boxes_fn)\n",
    "        \n",
    "        # Calculate ROI area\n",
    "        boxes[\"Area\"] = boxes[\"W\"] * boxes[\"H\"]\n",
    "        totalArea = sum(boxes[\"Area\"])\n",
    "    \n",
    "        # Add a suffix corresponding to the current panel to column names\n",
    "        boxes = boxes.add_suffix(\"_\" + panel)\n",
    "        roi_panel_column = \"_\".join([\"ROI\", panel])\n",
    "        boxes[\"ROI\"] = boxes[roi_panel_column]\n",
    "        boxes.drop(columns=roi_panel_column, axis=1, inplace=True)\n",
    "        \n",
    "        # Append the current panel ROIs to the list of all ROIs\n",
    "        boxesList.append(boxes)\n",
    "        \n",
    "        # Compile ROI summary for current case and panel\n",
    "        cur_summary = pd.DataFrame(\n",
    "            [[case,panel,ROINb,totalArea]], columns=boxesSummary_cols)\n",
    "        boxesSummary = pd.concat([boxesSummary, cur_summary])\n",
    "    \n",
    "    # Create a single data frame from the ROI list\n",
    "    boxesDF = pd.concat(boxesList, axis=1)\n",
    "    # boxesDF = boxesDF.loc[:,~boxesDF.T.duplicated(keep=\"last\")]\n",
    "    ROI_col = boxesDF.pop(\"ROI\").iloc[:,0]\n",
    "    boxesDF.insert(0, \"ROI\", ROI_col)\n",
    "    boxesDF.insert(0, \"Case\", int(case))\n",
    "    \n",
    "    # Export the data frame as `.csv`\n",
    "    boxesDF_fn = \"_\".join([case, \"Boxes\"]) + \".csv\" \n",
    "    boxesDF.to_csv(case_dir / boxesDF_fn)\n",
    "    \n",
    "# Export the ROI summary as `.csv`\n",
    "boxesSummary_fn = \"acquisition_summary.csv\"\n",
    "boxesSummary.to_csv(input_dir / boxesSummary_fn, index=False)"
   ]
  },
  {
   "cell_type": "code",
   "execution_count": null,
   "id": "afc4db25-4003-4261-8061-20b8ac503b6f",
   "metadata": {},
   "outputs": [],
   "source": []
  }
 ],
 "metadata": {
  "kernelspec": {
   "display_name": "Python 3 (ipykernel)",
   "language": "python",
   "name": "python3"
  },
  "language_info": {
   "codemirror_mode": {
    "name": "ipython",
    "version": 3
   },
   "file_extension": ".py",
   "mimetype": "text/x-python",
   "name": "python",
   "nbconvert_exporter": "python",
   "pygments_lexer": "ipython3",
   "version": "3.10.4"
  }
 },
 "nbformat": 4,
 "nbformat_minor": 5
}
