{
 "cells": [
  {
   "cell_type": "code",
   "execution_count": 39,
   "id": "5b273246",
   "metadata": {},
   "outputs": [
    {
     "name": "stdout",
     "output_type": "stream",
     "text": [
      "['/home/T1D_preprocessing', '/opt/conda/lib/python39.zip', '/opt/conda/lib/python3.9', '/opt/conda/lib/python3.9/lib-dynload', '', '/opt/conda/lib/python3.9/site-packages']\n",
      "/opt/conda/bin/python\n"
     ]
    }
   ],
   "source": [
    "import pandas as pd\n",
    "import pickle\n",
    "import re\n",
    "import sys\n",
    "\n",
    "from pathlib import Path\n",
    "\n",
    "from steinbock import io\n",
    "from steinbock.preprocessing import imc\n",
    "print(sys.path)\n",
    "print(sys.executable)"
   ]
  },
  {
   "cell_type": "code",
   "execution_count": null,
   "id": "bb2e762c",
   "metadata": {},
   "outputs": [],
   "source": []
  },
  {
   "cell_type": "code",
   "execution_count": 40,
   "id": "b73982b6",
   "metadata": {},
   "outputs": [
    {
     "name": "stdout",
     "output_type": "stream",
     "text": [
      "Data folder: /home/processing\n",
      "Spillcomp data folder: /home/processing/spillcomp\n",
      "Git folder: /home/T1D_preprocessing\n"
     ]
    }
   ],
   "source": [
    "# Data folder\n",
    "folder_data = Path(\"/home/processing/\")\n",
    "Path(folder_data).mkdir(parents=True, exist_ok=True)\n",
    "assert Path.exists(folder_data), f\"{folder_data} does not exist\"\n",
    "print(\"Data folder:\", folder_data)\n",
    "\n",
    "spillcomp_data = folder_data / \"spillcomp\"\n",
    "Path(spillcomp_data).mkdir(parents=True, exist_ok=True)\n",
    "assert Path.exists(spillcomp_data), f\"{spillcomp_data} does not exist\"\n",
    "print(\"Spillcomp data folder:\", spillcomp_data)\n",
    "\n",
    "# Git folder (folder containing the current notebook)\n",
    "folder_git = Path.cwd()\n",
    "assert Path.exists(folder_git), f\"{folder_git} does not exist\"\n",
    "print(\"Git folder:\", folder_git)"
   ]
  },
  {
   "cell_type": "code",
   "execution_count": 41,
   "id": "7d16083b",
   "metadata": {},
   "outputs": [
    {
     "data": {
      "text/plain": [
       "{'Uncompressed': PosixPath('/home/processing/panel_Uncompressed.csv'),\n",
       " 'Compressed': PosixPath('/home/processing/panel_Compressed.csv')}"
      ]
     },
     "execution_count": 41,
     "metadata": {},
     "output_type": "execute_result"
    }
   ],
   "source": [
    "# List panel files\n",
    "panels = {\n",
    "    \"Uncompressed\": (folder_data / 'panel_Uncompressed.csv'),\n",
    "    \"Compressed\": (folder_data / 'panel_Compressed.csv')\n",
    "}\n",
    "panels"
   ]
  },
  {
   "cell_type": "code",
   "execution_count": 42,
   "id": "ea86abf7",
   "metadata": {},
   "outputs": [],
   "source": [
    "# Columns required in the panel file(s)\n",
    "panel_cols = {\n",
    "    \"col_channel\": \"channel\",\n",
    "    \"col_metal\": \"metal\",\n",
    "    \"col_name\": \"name\",\n",
    "    \"col_keep\": \"keep\",\n",
    "    \"col_deeepcell\": \"deepcell\",\n",
    "}"
   ]
  },
  {
   "cell_type": "code",
   "execution_count": 43,
   "id": "d0c06ae7",
   "metadata": {},
   "outputs": [],
   "source": [
    "folders = {\n",
    "    \"raw\": folder_data / \"raw\",\n",
    "    \"img\": folder_data / \"img\",\n",
    "    \"seg_cells\": folder_data / \"seg_cells\",\n",
    "    \"masks_cells\": folder_data / \"masks_cells\",\n",
    "    \"data_cells\": folder_data / \"data_cells\",\n",
    "    \"variables\": folder_data / \"variables\",\n",
    "    \"spillcomp\": spillcomp_data,\n",
    "    \"img_spillcomp\": folder_data / \"img_spillcomp\"\n",
    "}"
   ]
  },
  {
   "cell_type": "code",
   "execution_count": 44,
   "id": "0c74b3e1",
   "metadata": {},
   "outputs": [],
   "source": [
    "# Make directories (if they do not exist)\n",
    "for folder in folders.values():\n",
    "    folder.mkdir(exist_ok=True)\n",
    "    \n",
    "# Add base previously defined data and git folders\n",
    "folders[\"data\"] = folder_data\n",
    "folders[\"git\"] = folder_git\n",
    "\n",
    "# Export folder names for use in downstream notebooks\n",
    "with open(folder_data / \"variables\" / \"folders.txt\", \"wb\") as handle:\n",
    "    pickle.dump(folders, handle)"
   ]
  },
  {
   "cell_type": "code",
   "execution_count": 45,
   "id": "d9456bb4",
   "metadata": {},
   "outputs": [
    {
     "name": "stdout",
     "output_type": "stream",
     "text": [
      "Panel: Uncompressed\n",
      "   channel  metal                       name antibody_clone  keep  deepcell  \\\n",
      "0        1  In113                 Histone H3           D1H2     1         1   \n",
      "1        2  La139               Somatostatin         ICDCLS     1         0   \n",
      "2        3  Pr141                    insulin          C27C9     1         0   \n",
      "3        4  Nd143                       CD44            IM7     1         0   \n",
      "4        5  Nd144  Glucose Transporter GLUT1        EPR3915     1         0   \n",
      "\n",
      "   clustering  categories shortname  Unnamed: 9  Unnamed: 10 Unnamed: 11  \n",
      "0           0           0        H3         NaN          NaN         NaN  \n",
      "1           1           0       SST         NaN          NaN         NaN  \n",
      "2           1           0       INS         NaN          NaN         NaN  \n",
      "3           1           0      CD44         NaN          NaN         NaN  \n",
      "4           1           0     GLUT1         NaN          NaN         NaN  \n",
      "Panel: Compressed\n",
      "   channel  metal                       name antibody_clone  keep  deepcell  \\\n",
      "0      1.0  In113                 Histone H3           D1H2   1.0       1.0   \n",
      "1      2.0  Nd143                   CD44_GCG     IM7_D16G10   1.0       0.0   \n",
      "2      3.0  Nd144  Glucose Transporter GLUT1        EPR3915   1.0       0.0   \n",
      "3      4.0  Nd145                       CD99          HCD99   1.0       0.0   \n",
      "4      5.0  Nd146                       CD68            KP1   1.0       2.0   \n",
      "\n",
      "   clustering  categories shortname  \n",
      "0         0.0         0.0        H3  \n",
      "1         1.0         0.0  CD44_GCG  \n",
      "2         1.0         0.0     GLUT1  \n",
      "3         1.0         0.0      CD99  \n",
      "4         1.0         1.0      CD68  \n"
     ]
    }
   ],
   "source": [
    "# Loop through the panels\n",
    "for panel_name, panel_path in panels.items():\n",
    "    print(\"Panel:\", panel_name)\n",
    "    \n",
    "    # Load the panel file\n",
    "    assert Path.exists(panel_path), f\"{panel_path} does not exist\"\n",
    "    cur_panel = pd.read_csv(panel_path, sep = ',', index_col = False)\n",
    "\n",
    "    # Make sure that the required columns exist\n",
    "    for col in panel_cols.values():\n",
    "        assert(col in cur_panel.columns), f\"Column {col} missing from panel\"\n",
    "    \n",
    "    # Subset the panel\n",
    "    cur_panel = cur_panel[cur_panel[panel_cols[\"col_keep\"]]==1]\n",
    "    panels[panel_name] = cur_panel\n",
    "    \n",
    "    # Display the panel\n",
    "    print(panels[panel_name].head())\n",
    "    \n",
    "# Export the panels for use in downstream scripts\n",
    "with open(folder_data / \"variables\" / \"panels.txt\", \"wb\") as handle:\n",
    "     pickle.dump(panels, handle)"
   ]
  },
  {
   "cell_type": "code",
   "execution_count": 46,
   "id": "b3ee56f6",
   "metadata": {},
   "outputs": [
    {
     "data": {
      "text/plain": [
       "{'raw': PosixPath('/home/processing/raw'),\n",
       " 'img': PosixPath('/home/processing/img'),\n",
       " 'seg_cells': PosixPath('/home/processing/seg_cells'),\n",
       " 'masks_cells': PosixPath('/home/processing/masks_cells'),\n",
       " 'data_cells': PosixPath('/home/processing/data_cells'),\n",
       " 'variables': PosixPath('/home/processing/variables'),\n",
       " 'spillcomp': PosixPath('/home/processing/spillcomp'),\n",
       " 'img_spillcomp': PosixPath('/home/processing/img_spillcomp'),\n",
       " 'data': PosixPath('/home/processing'),\n",
       " 'git': PosixPath('/home/T1D_preprocessing')}"
      ]
     },
     "execution_count": 46,
     "metadata": {},
     "output_type": "execute_result"
    }
   ],
   "source": [
    "folders"
   ]
  },
  {
   "cell_type": "code",
   "execution_count": null,
   "id": "bd9ec69a",
   "metadata": {},
   "outputs": [
    {
     "name": "stdout",
     "output_type": "stream",
     "text": [
      "Processing Uncompressed panel\n",
      "Processing Compressed panel\n"
     ]
    }
   ],
   "source": [
    "panels[\"Uncompressed\"]\n",
    "\n",
    "for panel_name, panel in panels.items():\n",
    "    print(\"Processing\", panel_name, \"panel\")\n",
    "    \n",
    "    # Input and output folders\n",
    "    image_info = []\n",
    "    # Input:\n",
    "    raw_subdir = folders[\"spillcomp\"] / panel_name\n",
    "    img_subdir = folders[\"img_spillcomp\"] / panel_name\n",
    "    img_subdir.mkdir(exist_ok = True)  \n",
    "    \n",
    "    # List zipped files\n",
    "    cur_mcd_files = imc.list_mcd_files(raw_subdir, unzip=True)\n",
    "    cur_txt_files = imc.list_txt_files(raw_subdir, unzip=True)\n",
    "    \n",
    "    # Process files\n",
    "    for (mcd_file, acquisition, img, matched_txt, recovered) in \\\n",
    "    imc.try_preprocess_images_from_disk(\n",
    "        cur_mcd_files, cur_txt_files,\n",
    "        hpf = None,\n",
    "        channel_names = panels[panel_name][\"metal\"],\n",
    "        unzip = True\n",
    "    ):\n",
    "        cur_desc = acquisition.description\n",
    "        cur_case = re_fn.search(mcd_file.name).group(\"caseid\")\n",
    "        \n",
    "        img_file = f\"{mcd_file.stem}_{cur_desc}.tiff\"\n",
    "        io.write_image(img, img_subdir / img_file)\n",
    "\n",
    "        # Save acquisition metadata\n",
    "        image_info_row = imc.create_image_info(\n",
    "            mcd_file, acquisition, img, matched_txt, recovered, img_file\n",
    "        )\n",
    "    \n",
    "        image_info_row[\"panel\"] = panel_name\n",
    "        image_info.append(image_info_row)\n",
    "\n",
    "    image_info = pd.DataFrame(image_info)\n",
    "    image_meta_file = f\"images_{panel_name}_spillcomp.csv\"\n",
    "    image_info.to_csv(folders[\"data\"] / image_meta_file, index = False)"
   ]
  }
 ],
 "metadata": {
  "kernelspec": {
   "display_name": "base",
   "language": "python",
   "name": "python3"
  },
  "language_info": {
   "codemirror_mode": {
    "name": "ipython",
    "version": 3
   },
   "file_extension": ".py",
   "mimetype": "text/x-python",
   "name": "python",
   "nbconvert_exporter": "python",
   "pygments_lexer": "ipython3",
   "version": "3.9.12"
  }
 },
 "nbformat": 4,
 "nbformat_minor": 5
}
