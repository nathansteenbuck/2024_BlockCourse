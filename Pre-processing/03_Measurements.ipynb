{
 "cells": [
  {
   "cell_type": "markdown",
   "metadata": {},
   "source": [
    "\n",
    "# **Measurements**\n",
    " \n",
    "## **Introduction**\n",
    " \n",
    "This is the third and last script in the processing pipeline for IMC data.\n",
    "\n",
    "The goal is to extract measurements from the multichannel images generated in the first script using the cell masks generated in the second script. \n",
    "This is performed using functions from the `steinbock` package. \n",
    "Documentation can be found here: https://bodenmillergroup.github.io/steinbock/latest/cli/measurement.\n",
    " \n",
    "The following measurements are performed: \n",
    "\n",
    "**Measure intensities**  \n",
    "- Average marker intensities for single cells.\n",
    " \n",
    "**Measure region properties**  \n",
    "- Cell-level spatial measurements..\n",
    "\n",
    " In case one of the two data files is not generated (for instance due to a missing mask), \n",
    " the corresponding files in other data folders are deleted at the end of this script.\n"
   ]
  },
  {
   "cell_type": "markdown",
   "metadata": {},
   "source": [
    "## **Configuration**\n",
    " \n",
    "### **Import packages**"
   ]
  },
  {
   "cell_type": "code",
   "execution_count": 1,
   "metadata": {},
   "outputs": [],
   "source": [
    "import logging\n",
    "import numpy as np\n",
    "import pandas as pd\n",
    "from pathlib import Path\n",
    "import pickle\n",
    "import sys\n",
    "\n",
    "from scipy import ndimage as ndi\n",
    "from skimage import measure\n",
    "from skimage.segmentation import expand_labels\n",
    "from skimage.util import invert\n",
    "\n",
    "from steinbock import io\n",
    "from steinbock.measurement import intensities, neighbors, regionprops"
   ]
  },
  {
   "cell_type": "code",
   "execution_count": 2,
   "metadata": {},
   "outputs": [
    {
     "name": "stdout",
     "output_type": "stream",
     "text": [
      "['/home/T1D_preprocessing', '/opt/conda/lib/python39.zip', '/opt/conda/lib/python3.9', '/opt/conda/lib/python3.9/lib-dynload', '', '/opt/conda/lib/python3.9/site-packages']\n",
      "/opt/conda/bin/python\n"
     ]
    }
   ],
   "source": [
    "logger = logging.getLogger(__name__)\n",
    "print(sys.path)\n",
    "print(sys.executable)\n",
    "base_dir = Path(\"/home/processing/\")"
   ]
  },
  {
   "cell_type": "markdown",
   "metadata": {},
   "source": [
    "### **Load directories and panels**\n",
    " \n",
    "Paths to input and output folders as well as antibody panels were exported by the first script (`01_Preprocessing.ipynb`). Here they are imported again.\n"
   ]
  },
  {
   "cell_type": "code",
   "execution_count": 3,
   "metadata": {},
   "outputs": [
    {
     "name": "stdout",
     "output_type": "stream",
     "text": [
      "\u001b[0m\u001b[01;32m01_Preprocessing.ipynb\u001b[0m*     \u001b[01;32m03_Measurements.ipynb\u001b[0m*\n",
      "\u001b[01;32m02_CellSegmentation.ipynb\u001b[0m*  \u001b[01;32mREADME.md\u001b[0m*\n"
     ]
    }
   ],
   "source": [
    "%ls"
   ]
  },
  {
   "cell_type": "code",
   "execution_count": 4,
   "metadata": {},
   "outputs": [
    {
     "name": "stdout",
     "output_type": "stream",
     "text": [
      "Uncompressed \n",
      "    channel  metal                     name    antibody_clone  keep  deepcell  \\\n",
      "0        0  In113               Histone H3              D1H2     1       1.0   \n",
      "1        1  In115                      SMA               1A4     1       2.0   \n",
      "5        5  Pr141                  insulin             C27C9     1       0.0   \n",
      "6        6  Nd143                     CD44               IM7     1       2.0   \n",
      "7        7  Nd144  Prohormone Convertase 2  Polyclonal _ PC2     1       0.0   \n",
      "\n",
      "   clustering  dimred shortname  \n",
      "0           0       0        H3  \n",
      "1           1       1       SMA  \n",
      "5           1       1       INS  \n",
      "6           1       1      CD44  \n",
      "7           1       1     PCSK2  \n",
      "Compressed \n",
      "    channel  metal                     name  antibody_clone  keep  deepcell  \\\n",
      "0        0  In113               Histone H3            D1H2     1       1.0   \n",
      "1        1  In115                      SMA             1A4     1       2.0   \n",
      "5        5  Nd143                 CD44_GCG      IM7_D16G10     1       2.0   \n",
      "6        6  Nd144  Prohormone Convertase 2  Polyclonal_PC2     1       0.0   \n",
      "7        7  Nd145                     CD99           HCD99     1       2.0   \n",
      "\n",
      "   clustering  dimred  categories shortname  \n",
      "0           0       0           0        H3  \n",
      "1           1       1           1       SMA  \n",
      "5           1       1           0  CD44_GCG  \n",
      "6           1       1           0     PCSK2  \n",
      "7           1       1           0      CD99  \n"
     ]
    }
   ],
   "source": [
    "with open(base_dir / \"variables/folders.txt\", \"rb\") as handle:\n",
    "    folders = pickle.loads(handle.read())\n",
    "folders\n",
    "\n",
    "with open(base_dir / \"variables/panels.txt\", \"rb\") as handle:\n",
    "    panels = pickle.loads(handle.read())\n",
    "\n",
    "for panel_name, panel in panels.items():\n",
    "    print(panel_name, \"\\n\", panel.head())\n",
    "panel_names = list(panels.keys())"
   ]
  },
  {
   "cell_type": "markdown",
   "metadata": {},
   "source": [
    "#### **Create output directories**"
   ]
  },
  {
   "cell_type": "code",
   "execution_count": 5,
   "metadata": {},
   "outputs": [],
   "source": [
    "# Cell data\n",
    "measurements = [\"intensities\", \"regionprops\", \"neighbors\"]\n",
    "\n",
    "for panel_name in panel_names:\n",
    "    output_dir_cells = folders[\"data_cells\"] / panel_name\n",
    "    output_dir_cells.mkdir(exist_ok=True)\n",
    "    \n",
    "    for meas_type in measurements:\n",
    "        meas_dir_cells = output_dir_cells / meas_type\n",
    "        meas_dir_cells.mkdir(exist_ok=True)"
   ]
  },
  {
   "cell_type": "markdown",
   "metadata": {},
   "source": [
    "#### **Select the cell segmentation type to use**"
   ]
  },
  {
   "cell_type": "code",
   "execution_count": 6,
   "metadata": {},
   "outputs": [],
   "source": [
    "segmentation_type = \"whole-cell\""
   ]
  },
  {
   "cell_type": "markdown",
   "metadata": {},
   "source": [
    "## **Measure intensities**\n",
    " \n",
    "Here, the mean marker expression over the cell area is measured.\n",
    "\n",
    "Full documentation: https://bodenmillergroup.github.io/steinbock/latest/cli/measurement/#object-intensities.\n"
   ]
  },
  {
   "cell_type": "markdown",
   "metadata": {},
   "source": [
    "### **Single cell intensities**"
   ]
  },
  {
   "cell_type": "code",
   "execution_count": 7,
   "metadata": {},
   "outputs": [],
   "source": [
    "for panel_name in panel_names:\n",
    "    img_subdir = folders[\"img\"] / panel_name\n",
    "    masks_subdir = folders[\"masks_cells\"] / panel_name / segmentation_type\n",
    "    intensities_dir = folders[\"data_cells\"] / panel_name / \"intensities\"\n",
    "    \n",
    "    for img_path, mask_path, intens in intensities.try_measure_intensities_from_disk(\n",
    "        img_files = io.list_image_files(img_subdir),\n",
    "        mask_files = io.list_image_files(masks_subdir),\n",
    "        channel_names = panels[panel_name][\"name\"],\n",
    "        intensity_aggregation = intensities.IntensityAggregation.MEAN\n",
    "    ):\n",
    "        intensities_file = img_path.name.replace('.tiff', '.csv')\n",
    "        pd.DataFrame.to_csv(intens, Path(intensities_dir) / intensities_file)"
   ]
  },
  {
   "cell_type": "markdown",
   "metadata": {},
   "source": [
    "## **Measure region properties**\n",
    "\n",
    "Documentation for region properties measurements: https://bodenmillergroup.github.io/steinbock/latest/cli/measurement/#region-properties.\n",
    " \n",
    "### **Properties to measure**\n",
    " \n",
    "For a full list of measurable properties, refer to https://scikit-image.org/docs/dev/api/skimage.measure.html#skimage.measure.regionprops.\n"
   ]
  },
  {
   "cell_type": "code",
   "execution_count": 8,
   "metadata": {},
   "outputs": [],
   "source": [
    "skimage_regionprops = [\n",
    "        \"area\",\n",
    "        \"centroid\",\n",
    "        \"major_axis_length\",\n",
    "        \"minor_axis_length\",\n",
    "        \"eccentricity\",\n",
    "    ]"
   ]
  },
  {
   "cell_type": "markdown",
   "metadata": {},
   "source": [
    "### **Cell-level spatial measurements**\n",
    " \n",
    "Measurement of spatial properties for single cells.  "
   ]
  },
  {
   "cell_type": "code",
   "execution_count": 9,
   "metadata": {},
   "outputs": [],
   "source": [
    "for panel_name in panel_names:\n",
    "    img_subdir = folders[\"img\"] / panel_name\n",
    "    cell_masks_subdir = folders[\"masks_cells\"] / panel_name / segmentation_type\n",
    "    regions_dir = folders[\"data_cells\"] / panel_name / \"regionprops\"\n",
    "    \n",
    "    img_files = io.list_image_files(img_subdir)\n",
    "    \n",
    "    for img_file in img_files:\n",
    "        try:\n",
    "            # Load images and masks\n",
    "            cell_mask_file = cell_masks_subdir / img_file.name\n",
    "\n",
    "            if (cell_mask_file.exists()):\n",
    "                img = io.read_image(img_file)\n",
    "                cell_mask = io.read_mask(cell_mask_file)\n",
    "\n",
    "                # Measure cell-level region props\n",
    "                region_props = regionprops.measure_regionprops(img, cell_mask, skimage_regionprops)\n",
    "\n",
    "                # Save measurements as CSV files\n",
    "                regprop_file = img_file.name.replace(\".tiff\", \".csv\")\n",
    "                pd.DataFrame.to_csv(region_props, Path(regions_dir) / regprop_file)\n",
    "            \n",
    "        except:\n",
    "            logger.exception(f\"Error measuring regionprops in {img_file}\")    "
   ]
  },
  {
   "cell_type": "markdown",
   "metadata": {},
   "source": [
    "## **Catch unmatched data files**\n",
    " \n",
    "### **Flag and delete unmatched data files**\n",
    "For each image, three data files should be generated corresponding to intensities, and region props.\n",
    "If for one image one of these files is missing, the other ones are removed in order to avoid conflicts when importing data into R. Data files that do not have a matching file in every measurement folders are deleted."
   ]
  },
  {
   "cell_type": "code",
   "execution_count": 10,
   "metadata": {},
   "outputs": [
    {
     "name": "stdout",
     "output_type": "stream",
     "text": [
      "Images with missing corresponding files:\n",
      " []\n",
      "\n",
      "Deleted files:\n",
      "Images with missing corresponding files:\n",
      " []\n",
      "\n",
      "Deleted files:\n"
     ]
    }
   ],
   "source": [
    "delete_unmatched_files = True\n",
    "\n",
    "for panel_name in panel_names:\n",
    "    missing = set()\n",
    "    \n",
    "    # List intensity files\n",
    "    intensity_dir = folders[\"data_cells\"] / panel_name / \"intensities\"\n",
    "    intensity_files = Path(intensity_dir).rglob(\"[!.]*.csv\")\n",
    "    intensity_files = frozenset(file.name for file in intensity_files)\n",
    "\n",
    "    # Find matched data files in the other cell data folders\n",
    "    for meas_type in [\"regionprops\"]:\n",
    "        cur_dir = folders[\"data_cells\"] / panel_name / meas_type\n",
    "        cur_files = set([file.name for file in Path.iterdir(cur_dir)])\n",
    "\n",
    "        missing.add(frozenset(intensity_files.difference(cur_files)))\n",
    "        missing.add(frozenset(cur_files.difference(intensity_files)))\n",
    "        \n",
    "    # Print out all missing images\n",
    "    missing = [list(x) for x in missing]\n",
    "    missing = [x for xs in missing for x in xs]\n",
    "    print(\"Images with missing corresponding files:\\n\", missing)\n",
    "    \n",
    "    # Delete unmatched data files\n",
    "    if delete_unmatched_files:\n",
    "        unmatched_files = []\n",
    "        for meas_type in [\"intensities\", \"regionprops\"]:\n",
    "            cur_dir = folders[\"data_cells\"] / panel_name / meas_type\n",
    "            unmatched_files.extend([cur_dir / file for file in missing])\n",
    "\n",
    "        print(\"\\nDeleted files:\")\n",
    "        for file in unmatched_files:\n",
    "            if file.is_file():\n",
    "                print(file)\n",
    "                Path.unlink(file, missing_ok=True)\n"
   ]
  },
  {
   "cell_type": "markdown",
   "metadata": {
    "vscode": {
     "languageId": "plaintext"
    }
   },
   "source": [
    "\n",
    "## **Next step**\n",
    " \n",
    "This notebook is the last one in this processing pipeline. The next step is to load the measurements extracted here in R for data analysis. All data analysis for the current project is performed using the analysis repository."
   ]
  }
 ],
 "metadata": {
  "kernelspec": {
   "display_name": "base",
   "language": "python",
   "name": "python3"
  },
  "language_info": {
   "codemirror_mode": {
    "name": "ipython",
    "version": 3
   },
   "file_extension": ".py",
   "mimetype": "text/x-python",
   "name": "python",
   "nbconvert_exporter": "python",
   "pygments_lexer": "ipython3",
   "version": "3.9.12"
  }
 },
 "nbformat": 4,
 "nbformat_minor": 2
}
